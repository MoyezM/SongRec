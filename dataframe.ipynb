{
 "cells": [
  {
   "cell_type": "code",
   "execution_count": 1,
   "metadata": {},
   "outputs": [],
   "source": [
    "import pandas as pd\n",
    "import psycopg2\n",
    "import numpy as np\n",
    "import constants as c\n",
    "from tqdm import tqdm\n",
    "import gc\n",
    "\n",
    "def sql_conn(db_name):\n",
    "    conn = psycopg2.connect(host=\"localhost\", port=5432, database=db_name, user=c.user, password=c.password)\n",
    "    cur = conn.cursor()\n",
    "\n",
    "    return (conn, cur)\n",
    "\n",
    "def song_df(save=False):\n",
    "    cols = ['id', 'name', 'artists_id', 'danceability', 'energy', 'key', 'loudness', 'mode', 'speechiness', 'acousticness', 'instrumentalness', 'liveness', 'valence', 'tempo', 'duration_ms', 'time_signature']\n",
    "    conn, cur  = sql_conn('PlaylistScraper')  \n",
    "    \n",
    "    q = \\\n",
    "    \"\"\"\n",
    "    SELECT s.id, s.name, s.artists_id,\n",
    "    f.danceability, f.energy, f.key, f.loudness, f.mode, f.speechiness, f.acousticness, f.instrumentalness, f.liveness, f.valence, f.tempo, f.duration_ms, f.time_signature\n",
    "    FROM songs s\n",
    "    INNER JOIN song_features f\n",
    "    ON f.id = s.id\n",
    "    \"\"\"\n",
    "    \n",
    "    cur.execute(q)\n",
    "    data = cur.fetchall()\n",
    "    \n",
    "    df = pd.DataFrame(data, columns=cols)    \n",
    "    \n",
    "    del data\n",
    "    \n",
    "    if save:\n",
    "        df.to_pickle('dataframes/songs.pickle')\n",
    "        return\n",
    "    \n",
    "    return df\n",
    "\n",
    "def get_playlist(_id):\n",
    "    conn, cur  = sql_conn('PlaylistScraper')  \n",
    "    \n",
    "    q = \\\n",
    "    \"\"\"\n",
    "    SELECT p.name, p.owner_id\n",
    "    FROM playlists p\n",
    "    WHERE p.id = %s\n",
    "    \"\"\"\n",
    "    \n",
    "    cur.execute(q, (_id, ))\n",
    "    name, owner_id = cur.fetchall()[0]\n",
    "    \n",
    "    q = \\\n",
    "    \"\"\"\n",
    "    SELECT g.genre\n",
    "    FROM playlist_genres g\n",
    "    where g.playlist_id = %s\n",
    "    \"\"\"\n",
    "    \n",
    "    cur.execute(q, (_id, ))\n",
    "    genres = [t[0] for t in cur.fetchall()]\n",
    "    \n",
    "    q = \\\n",
    "    \"\"\"\n",
    "    SELECT s.song_id\n",
    "    FROM playlist_songs s\n",
    "    WHERE s.playlist_id = %s\n",
    "    \"\"\"\n",
    "    \n",
    "    cur.execute(q, (_id, ))\n",
    "    songs = [t[0] for t in cur.fetchall()]\n",
    "    \n",
    "    \n",
    "    return _id, name, owner_id, genres, songs\n",
    "\n",
    "\n",
    "def playlist_df(save=False):\n",
    "    \n",
    "    conn, cur  = sql_conn('PlaylistScraper')  \n",
    "    \n",
    "    q = \\\n",
    "    \"\"\"\n",
    "    SELECT p.id\n",
    "    FROM playlists p\n",
    "    \"\"\"\n",
    "    \n",
    "    cur.execute(q)\n",
    "    playlist_ids = [t[0] for t in cur.fetchall()]\n",
    "    cols = ['id', 'name', 'owner_id','genres', 'songs']\n",
    "\n",
    "    df = pd.DataFrame(columns=cols)\n",
    "    \n",
    "    for _id in tqdm(playlist_ids):\n",
    "        playlist = get_playlist(_id)\n",
    "        df = df.append(pd.Series(playlist, index=df.columns), ignore_index=True)\n",
    "        del playlist\n",
    "        \n",
    "    if save:\n",
    "        df.to_pickle('dataframes/playlists.pickle')\n",
    "        return\n",
    "    \n",
    "    return df   \n",
    "    \n",
    "\n",
    "def load_df():\n",
    "    song_df = pd.read_pickle('dataframes/songs.pickle')\n",
    "    playlist_df = pd.read_pickle('dataframes/playlists.pickle')\n",
    "    \n",
    "    return song_df, playlist_df"
   ]
  },
  {
   "cell_type": "code",
   "execution_count": 2,
   "metadata": {},
   "outputs": [],
   "source": [
    "song_df, playlist_df = load_df()"
   ]
  },
  {
   "cell_type": "code",
   "execution_count": 8,
   "metadata": {},
   "outputs": [],
   "source": [
    "from sys import getsizeof"
   ]
  },
  {
   "cell_type": "code",
   "execution_count": 9,
   "metadata": {},
   "outputs": [
    {
     "data": {
      "text/plain": [
       "3522454884"
      ]
     },
     "execution_count": 9,
     "metadata": {},
     "output_type": "execute_result"
    }
   ],
   "source": [
    "getsizeof(song_df)"
   ]
  },
  {
   "cell_type": "code",
   "execution_count": 10,
   "metadata": {},
   "outputs": [
    {
     "data": {
      "text/plain": [
       "967156649"
      ]
     },
     "execution_count": 10,
     "metadata": {},
     "output_type": "execute_result"
    }
   ],
   "source": [
    "getsizeof(playlist_df)"
   ]
  },
  {
   "cell_type": "code",
   "execution_count": null,
   "metadata": {},
   "outputs": [],
   "source": []
  }
 ],
 "metadata": {
  "kernelspec": {
   "display_name": "PyTorch",
   "language": "python",
   "name": "pytorch"
  },
  "language_info": {
   "codemirror_mode": {
    "name": "ipython",
    "version": 3
   },
   "file_extension": ".py",
   "mimetype": "text/x-python",
   "name": "python",
   "nbconvert_exporter": "python",
   "pygments_lexer": "ipython3",
   "version": "3.8.1"
  }
 },
 "nbformat": 4,
 "nbformat_minor": 4
}
